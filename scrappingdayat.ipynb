{
  "nbformat": 4,
  "nbformat_minor": 0,
  "metadata": {
    "colab": {
      "provenance": [],
      "authorship_tag": "ABX9TyM/3lu0yvEFqtVjs/MWyBaM",
      "include_colab_link": true
    },
    "kernelspec": {
      "name": "python3",
      "display_name": "Python 3"
    },
    "language_info": {
      "name": "python"
    }
  },
  "cells": [
    {
      "cell_type": "markdown",
      "metadata": {
        "id": "view-in-github",
        "colab_type": "text"
      },
      "source": [
        "<a href=\"https://colab.research.google.com/github/doniwinarso/PythonForMachineLearning/blob/master/scrappingdayat.ipynb\" target=\"_parent\"><img src=\"https://colab.research.google.com/assets/colab-badge.svg\" alt=\"Open In Colab\"/></a>"
      ]
    },
    {
      "cell_type": "code",
      "source": [
        "pip install google-play-scraper"
      ],
      "metadata": {
        "colab": {
          "base_uri": "https://localhost:8080/"
        },
        "id": "ERXX1TzE0TXc",
        "outputId": "5a73a8bd-e37e-403d-806a-31c145b09500"
      },
      "execution_count": 11,
      "outputs": [
        {
          "output_type": "stream",
          "name": "stdout",
          "text": [
            "Requirement already satisfied: google-play-scraper in /usr/local/lib/python3.10/dist-packages (1.2.7)\n"
          ]
        }
      ]
    },
    {
      "cell_type": "code",
      "source": [
        "from google_play_scraper import reviews, Sort\n",
        "import pandas as pd\n",
        "import numpy as np"
      ],
      "metadata": {
        "id": "7B-H6t-t0w1O"
      },
      "execution_count": 18,
      "outputs": []
    },
    {
      "cell_type": "code",
      "source": [
        "import pandas as pd\n",
        "from google_play_scraper import reviews, Sort\n",
        "\n",
        "app_id = 'gov.dukcapil.mobile_id'\n",
        "\n",
        "# Mengambil data komentar dari Google Play Store\n",
        "result, continuation_token = reviews(\n",
        "    app_id,\n",
        "    lang='id',\n",
        "    country='id',\n",
        "    sort=Sort.NEWEST,\n",
        ")\n",
        "\n",
        "# Menyimpan data komentar ke dalam DataFrame\n",
        "data = {\n",
        "    'User': [review['userName'] for review in result],\n",
        "    'Rating': [review['score'] for review in result],\n",
        "    'Comment': [review['content'] for review in result]\n",
        "}\n",
        "\n",
        "df = pd.DataFrame(data)\n",
        "\n",
        "# Menyimpan DataFrame ke file Excel\n",
        "df.to_excel('komentar_google_play.xlsx', index=False, engine='openpyxl')\n",
        "\n",
        "print(\"Data telah disimpan ke komentar_google_play.xlsx\")"
      ],
      "metadata": {
        "id": "DFas8PrBBrlm",
        "outputId": "2f355d1a-5230-45d8-c445-9c0510453192",
        "colab": {
          "base_uri": "https://localhost:8080/"
        }
      },
      "execution_count": 29,
      "outputs": [
        {
          "output_type": "stream",
          "name": "stdout",
          "text": [
            "Data telah disimpan ke komentar_google_play.xlsx\n"
          ]
        }
      ]
    },
    {
      "cell_type": "code",
      "source": [],
      "metadata": {
        "id": "KLQoawvPBz_u"
      },
      "execution_count": null,
      "outputs": []
    },
    {
      "cell_type": "code",
      "source": [
        "import pandas as pd\n",
        "from google_play_scraper import reviews, Sort\n",
        "import time\n",
        "\n",
        "app_id = 'gov.dukcapil.mobile_id'\n",
        "all_reviews = []\n",
        "continuation_token = None\n",
        "total_reviews_to_fetch = 48500\n",
        "reviews_per_request = 100\n",
        "\n",
        "while len(all_reviews) < total_reviews_to_fetch:\n",
        "    result, continuation_token = reviews(\n",
        "        app_id,\n",
        "        lang='id',\n",
        "        country='id',\n",
        "        sort=Sort.NEWEST,\n",
        "        count=reviews_per_request,\n",
        "        continuation_token=continuation_token\n",
        "    )\n",
        "\n",
        "    if not result:\n",
        "        break\n",
        "\n",
        "    all_reviews.extend(result)\n",
        "\n",
        "    # Delay antara permintaan untuk menghindari pembatasan\n",
        "    time.sleep(1)\n",
        "\n",
        "    # Cetak jumlah ulasan yang telah diambil\n",
        "    print(f\"Jumlah ulasan yang telah diambil: {len(all_reviews)}\")\n",
        "\n",
        "    # Simpan ulasan secara berkala\n",
        "    if len(all_reviews) % 1000 == 0:\n",
        "        df = pd.DataFrame({\n",
        "            'User': [review['userName'] for review in all_reviews],\n",
        "            'Rating': [review['score'] for review in all_reviews],\n",
        "            'Comment': [review['content'] for review in all_reviews]\n",
        "        })\n",
        "        df.to_excel('komentar_google_play_partial.xlsx', index=False, engine='openpyxl')\n",
        "        print(f\"Data telah disimpan sementara ke komentar_google_play_partial.xlsx, total: {len(all_reviews)} ulasan\")\n",
        "\n",
        "# Menyimpan semua data komentar ke file Excel akhir\n",
        "df = pd.DataFrame({\n",
        "    'User': [review['userName'] for review in all_reviews],\n",
        "    'Rating': [review['score'] for review in all_reviews],\n",
        "    'Comment': [review['content'] for review in all_reviews]\n",
        "})\n",
        "\n",
        "df.to_excel('komentar_google_play.xlsx', index=False, engine='openpyxl')\n",
        "print(\"Data telah disimpan ke komentar_google_play.xlsx\")\n"
      ],
      "metadata": {
        "id": "HRCHltTuE71C",
        "outputId": "adb31043-996a-43bf-f838-5f947f072cf9",
        "colab": {
          "base_uri": "https://localhost:8080/"
        }
      },
      "execution_count": null,
      "outputs": [
        {
          "output_type": "stream",
          "name": "stdout",
          "text": [
            "Jumlah ulasan yang telah diambil: 100\n",
            "Jumlah ulasan yang telah diambil: 200\n",
            "Jumlah ulasan yang telah diambil: 300\n",
            "Jumlah ulasan yang telah diambil: 400\n",
            "Jumlah ulasan yang telah diambil: 500\n",
            "Jumlah ulasan yang telah diambil: 600\n",
            "Jumlah ulasan yang telah diambil: 700\n",
            "Jumlah ulasan yang telah diambil: 800\n",
            "Jumlah ulasan yang telah diambil: 900\n",
            "Jumlah ulasan yang telah diambil: 1000\n",
            "Data telah disimpan sementara ke komentar_google_play_partial.xlsx, total: 1000 ulasan\n",
            "Jumlah ulasan yang telah diambil: 1100\n",
            "Jumlah ulasan yang telah diambil: 1200\n",
            "Jumlah ulasan yang telah diambil: 1300\n",
            "Jumlah ulasan yang telah diambil: 1400\n",
            "Jumlah ulasan yang telah diambil: 1500\n",
            "Jumlah ulasan yang telah diambil: 1600\n",
            "Jumlah ulasan yang telah diambil: 1700\n",
            "Jumlah ulasan yang telah diambil: 1800\n",
            "Jumlah ulasan yang telah diambil: 1900\n",
            "Jumlah ulasan yang telah diambil: 2000\n",
            "Data telah disimpan sementara ke komentar_google_play_partial.xlsx, total: 2000 ulasan\n",
            "Jumlah ulasan yang telah diambil: 2100\n",
            "Jumlah ulasan yang telah diambil: 2200\n",
            "Jumlah ulasan yang telah diambil: 2300\n",
            "Jumlah ulasan yang telah diambil: 2400\n",
            "Jumlah ulasan yang telah diambil: 2500\n",
            "Jumlah ulasan yang telah diambil: 2600\n",
            "Jumlah ulasan yang telah diambil: 2700\n",
            "Jumlah ulasan yang telah diambil: 2800\n",
            "Jumlah ulasan yang telah diambil: 2900\n",
            "Jumlah ulasan yang telah diambil: 3000\n",
            "Data telah disimpan sementara ke komentar_google_play_partial.xlsx, total: 3000 ulasan\n",
            "Jumlah ulasan yang telah diambil: 3100\n",
            "Jumlah ulasan yang telah diambil: 3200\n",
            "Jumlah ulasan yang telah diambil: 3300\n",
            "Jumlah ulasan yang telah diambil: 3400\n",
            "Jumlah ulasan yang telah diambil: 3500\n",
            "Jumlah ulasan yang telah diambil: 3600\n",
            "Jumlah ulasan yang telah diambil: 3700\n",
            "Jumlah ulasan yang telah diambil: 3800\n",
            "Jumlah ulasan yang telah diambil: 3900\n",
            "Jumlah ulasan yang telah diambil: 4000\n",
            "Data telah disimpan sementara ke komentar_google_play_partial.xlsx, total: 4000 ulasan\n",
            "Jumlah ulasan yang telah diambil: 4100\n",
            "Jumlah ulasan yang telah diambil: 4200\n",
            "Jumlah ulasan yang telah diambil: 4300\n",
            "Jumlah ulasan yang telah diambil: 4400\n",
            "Jumlah ulasan yang telah diambil: 4500\n",
            "Jumlah ulasan yang telah diambil: 4600\n",
            "Jumlah ulasan yang telah diambil: 4700\n",
            "Jumlah ulasan yang telah diambil: 4800\n",
            "Jumlah ulasan yang telah diambil: 4900\n",
            "Jumlah ulasan yang telah diambil: 5000\n",
            "Data telah disimpan sementara ke komentar_google_play_partial.xlsx, total: 5000 ulasan\n",
            "Jumlah ulasan yang telah diambil: 5100\n",
            "Jumlah ulasan yang telah diambil: 5200\n",
            "Jumlah ulasan yang telah diambil: 5300\n",
            "Jumlah ulasan yang telah diambil: 5400\n",
            "Jumlah ulasan yang telah diambil: 5500\n",
            "Jumlah ulasan yang telah diambil: 5600\n",
            "Jumlah ulasan yang telah diambil: 5700\n",
            "Jumlah ulasan yang telah diambil: 5800\n",
            "Jumlah ulasan yang telah diambil: 5900\n",
            "Jumlah ulasan yang telah diambil: 6000\n",
            "Data telah disimpan sementara ke komentar_google_play_partial.xlsx, total: 6000 ulasan\n",
            "Jumlah ulasan yang telah diambil: 6100\n",
            "Jumlah ulasan yang telah diambil: 6200\n",
            "Jumlah ulasan yang telah diambil: 6300\n",
            "Jumlah ulasan yang telah diambil: 6400\n",
            "Jumlah ulasan yang telah diambil: 6500\n",
            "Jumlah ulasan yang telah diambil: 6600\n",
            "Jumlah ulasan yang telah diambil: 6700\n",
            "Jumlah ulasan yang telah diambil: 6800\n",
            "Jumlah ulasan yang telah diambil: 6900\n",
            "Jumlah ulasan yang telah diambil: 7000\n",
            "Data telah disimpan sementara ke komentar_google_play_partial.xlsx, total: 7000 ulasan\n",
            "Jumlah ulasan yang telah diambil: 7100\n",
            "Jumlah ulasan yang telah diambil: 7200\n",
            "Jumlah ulasan yang telah diambil: 7300\n",
            "Jumlah ulasan yang telah diambil: 7400\n",
            "Jumlah ulasan yang telah diambil: 7500\n",
            "Jumlah ulasan yang telah diambil: 7600\n",
            "Jumlah ulasan yang telah diambil: 7700\n",
            "Jumlah ulasan yang telah diambil: 7800\n",
            "Jumlah ulasan yang telah diambil: 7900\n",
            "Jumlah ulasan yang telah diambil: 8000\n",
            "Data telah disimpan sementara ke komentar_google_play_partial.xlsx, total: 8000 ulasan\n",
            "Jumlah ulasan yang telah diambil: 8100\n"
          ]
        }
      ]
    },
    {
      "cell_type": "code",
      "source": [],
      "metadata": {
        "id": "2uOStgCfFGAV"
      },
      "execution_count": null,
      "outputs": []
    }
  ]
}